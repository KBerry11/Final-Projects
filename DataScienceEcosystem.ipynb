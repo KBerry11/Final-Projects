{
 "cells": [
  {
   "cell_type": "markdown",
   "id": "2572d2df-d8bb-41a0-a0d0-f15f0bdbaedb",
   "metadata": {},
   "source": [
    "<center>\n",
    "    <img src=\"https://cf-courses-data.s3.us.cloud-object-storage.appdomain.cloud/IBMDeveloperSkillsNetwork-DS0105EN-SkillsNetwork/labs/Module2/images/SN_web_lightmode.png\" width=\"300\" alt=\"cognitiveclass.ai logo\">\n",
    "</center>"
   ]
  },
  {
   "cell_type": "markdown",
   "id": "9067279d-7ca6-437e-a833-fe124df7ba4f",
   "metadata": {},
   "source": [
    "#### Add your code below following the instructions given in the course\n"
   ]
  },
  {
   "cell_type": "markdown",
   "id": "a0fb2ef9-cbb3-4603-8d90-0e5cfbdcf6c3",
   "metadata": {},
   "source": [
    "|Exercise 1:| Create a Jupyter Notebook called DataScienceEcosystem|\n",
    "|----|----|"
   ]
  },
  {
   "cell_type": "markdown",
   "id": "1b225af1-a55b-4c64-97be-543cbfdfc82f",
   "metadata": {},
   "source": [
    "|Exercise 2: | Create a markdown cell with the given title and style|\n",
    "|----|---|\n",
    "| Title:| \"Data Science Tools and Ecosystem|\n",
    "| Style: | H1 heading"
   ]
  },
  {
   "cell_type": "markdown",
   "id": "251dc234-d91c-470f-8c26-7b85e86bfe5a",
   "metadata": {},
   "source": [
    "# Data Science Tools and Ecosystem"
   ]
  },
  {
   "cell_type": "markdown",
   "id": "2d8de287-c100-4db0-a89c-49279e742018",
   "metadata": {},
   "source": [
    "| Exercise 3: | Create a markdown cell with an introduction for the notebook|\n",
    "|-----|-----|"
   ]
  },
  {
   "cell_type": "markdown",
   "id": "7f892dfe-3bf0-427e-8591-15349f9079db",
   "metadata": {},
   "source": [
    "This is the final project from the \"Tools for Data Science\" course created by IBM. Although this course is hosted on various platforms, I took this course on Coursera. \n",
    "\n",
    "\n",
    "In this Jupyter Notebook, I will summarize the Data Science Tools and Ecosystem that I learned about in the course. "
   ]
  },
  {
   "cell_type": "markdown",
   "id": "eddede87-449d-482d-b062-6b91f0e1368b",
   "metadata": {},
   "source": [
    "|Exercise 4: | Create a markdown cell to list the data science languages|\n",
    "|----|----|\n",
    "|Style: | Ordered List|\n",
    "|Contents: | At least 3 commonly used languages|"
   ]
  },
  {
   "cell_type": "markdown",
   "id": "6f402d55-da45-403b-85a0-581349fb689f",
   "metadata": {},
   "source": [
    "Three of the most commonly used languages that Data Scientists use are: \n",
    "1. Python \n",
    "2. R\n",
    "3. SQL\n",
    "\n",
    "but there are other languages spevific features such as \n",
    "\n",
    "4. Java\n",
    "5. Scala\n",
    "6. C++\n",
    "7. Julia\n",
    "\n",
    "are also popular. "
   ]
  },
  {
   "cell_type": "markdown",
   "id": "d0b203fa-9093-4964-bfd4-e3c787fc212f",
   "metadata": {},
   "source": [
    "|Exercise 5: | Create a markdown cell to list the data science libraries|\n",
    "|---|---|\n",
    "|Style:| Ordered List |\n",
    "|Contents:| Must contain at least three commonly used Libraries|"
   ]
  },
  {
   "cell_type": "markdown",
   "id": "a33d7f1f-48b5-47d2-89c6-2de6beeea8c5",
   "metadata": {},
   "source": [
    "Although there are many Python libraries used by data scientists, some of the more common ones are listed below:\n",
    "\n",
    "Scientific Computing Libraries\n",
    "1. Pandas\n",
    "2. NumPy\n",
    "3. Matplotlib\n",
    "4. SciPy\n",
    "\n",
    "Data Visualization Libraries: \n",
    "\n",
    "5. Matplotlib (again)\n",
    "6. Plotly\n",
    "7. Seaborn\n",
    "\n",
    "Artifical Intelligence Libraries:\n",
    "\n",
    "8. Scikit-learn\n",
    "9. TensorFlow\n",
    "10. PyTorch\n",
    "11. Keras\n",
    "\n",
    "\n",
    "There are also many different libraries using in other common languages. For example in R many people use libraries such as:\n",
    "1. dplyr - for manipulating data\n",
    "1. stringr - for manpulating strings\n",
    "1. ggplot - for data visualizations\n",
    "1. caret - for machine learning"
   ]
  },
  {
   "cell_type": "markdown",
   "id": "8c1687ee-bbc0-43e4-b52e-7ba86110fc86",
   "metadata": {},
   "source": [
    "|Exercise 6: |Create a markdown cell with a table of Data Science Tools|\n",
    "|---|---|\n",
    "|Format:| Single Column table|\n",
    "|Header: |\"Data Science Tools\"|\n",
    "|Contents:| Three open source development environment tools|"
   ]
  },
  {
   "cell_type": "markdown",
   "id": "8f720d6d-6558-4498-af73-37d1a796ca59",
   "metadata": {
    "tags": []
   },
   "source": [
    "|Data Science Tools|\n",
    "|---|\n",
    "|Jupyter Notebook|\n",
    "|Jupyter Lab|\n",
    "|RStudio|"
   ]
  },
  {
   "cell_type": "markdown",
   "id": "933eeb2c-27b5-42fb-8638-738fa327249b",
   "metadata": {},
   "source": [
    "|Exercise 7: | Create a markdown cell introducing arithmetic expression examples using|\n",
    "|---|---|\n",
    "|Style: | H3 heading"
   ]
  },
  {
   "cell_type": "markdown",
   "id": "ffc2e009-946b-46bd-95fc-72a6d6b56cae",
   "metadata": {},
   "source": [
    "### Below are a few examples of evaluating arithmetic expressions in Python:"
   ]
  },
  {
   "cell_type": "markdown",
   "id": "75a1e3de-b364-432d-a936-f5ff8d4e783d",
   "metadata": {},
   "source": [
    "|Exercise 8:| Create a code cell to multiply and add numbers|\n",
    "|---|---|\n",
    "|Expression:| (3*4)+5|"
   ]
  },
  {
   "cell_type": "code",
   "execution_count": 1,
   "id": "fbfc7b7e-dba4-480a-941c-3aef2e81cf5b",
   "metadata": {
    "tags": []
   },
   "outputs": [
    {
     "data": {
      "text/plain": [
       "17"
      ]
     },
     "execution_count": 1,
     "metadata": {},
     "output_type": "execute_result"
    }
   ],
   "source": [
    "# This is a simple arithmetic expression\n",
    "# involving multiplication and addition\n",
    "\n",
    "(3*4)+5"
   ]
  },
  {
   "cell_type": "markdown",
   "id": "fcc4c54b-5fd2-4e17-8804-550286299720",
   "metadata": {},
   "source": [
    "|Exercise 9:| Create a code cell to convert minutes to hours|\n",
    "|---|---|\n",
    "|Calculation:| Convert 200 mins into hours|\n",
    "    "
   ]
  },
  {
   "cell_type": "code",
   "execution_count": 2,
   "id": "35e95104-fd94-44e7-a17e-5359bf3d42d4",
   "metadata": {
    "tags": []
   },
   "outputs": [
    {
     "data": {
      "text/plain": [
       "3.3333333333333335"
      ]
     },
     "execution_count": 2,
     "metadata": {},
     "output_type": "execute_result"
    }
   ],
   "source": [
    "# This is a simple expression that will \n",
    "# convert 200 minutes into hours\n",
    "\n",
    "200/60"
   ]
  },
  {
   "cell_type": "code",
   "execution_count": 7,
   "id": "65c218fc-585f-4a9a-bf90-51ed830f1d6b",
   "metadata": {
    "tags": []
   },
   "outputs": [
    {
     "data": {
      "text/plain": [
       "3.3333333333333335"
      ]
     },
     "execution_count": 7,
     "metadata": {},
     "output_type": "execute_result"
    }
   ],
   "source": [
    "# Although we have a simple code for this expression\n",
    "# Converting from minutes to hours feels like a job for a function\n",
    "# The following function will convert minutes to hours\n",
    "\n",
    "\n",
    "def min2hour( minutes):\n",
    "    hours = minutes/60\n",
    "    return hours\n",
    "\n",
    "# now to evaluate this function at 200 mins\n",
    "min2hour(200)"
   ]
  },
  {
   "cell_type": "markdown",
   "id": "82700d6f-a5a5-40e3-b8ba-863b8a5e11ea",
   "metadata": {},
   "source": [
    "| Exercise 10: |  Insert a markdown cell to list objectives|\n",
    "|----|---|\n",
    "|Format:| Objectives: in bold font|\n",
    "| | An unordered list to indicate 3-5 objectives in this notebook|\n"
   ]
  },
  {
   "cell_type": "markdown",
   "id": "90bf21db-a44d-4074-87c3-9220d6aefeb8",
   "metadata": {},
   "source": [
    "**Objectives:**\n",
    "- List Popular Data Science Languages\n",
    "- List Popular Data Science Libraries\n",
    "- Demonstrate the ability to work with markdown cells doing things such as\n",
    "            - - - Headers - - \n",
    "            - Tables - -\n",
    "            - Unordered and Ordered Lists - -\n",
    "            - Bolding of Texts - - -\n",
    "- Do basic arithmetic calculations in code cells"
   ]
  },
  {
   "cell_type": "markdown",
   "id": "c48786d2-e838-4840-8f11-3f5d9e4844ce",
   "metadata": {},
   "source": [
    "|Exercise 11: | Create an Authors markdown cell|\n",
    "|---|---|\n",
    "|Format: | \"Author\" in H2 heading style|\n",
    "| | Include your name in regular text below the word \"Author\""
   ]
  },
  {
   "cell_type": "markdown",
   "id": "63854103-7da0-4342-823d-26cb03901690",
   "metadata": {},
   "source": [
    "## Author\n",
    "Kileen Berry"
   ]
  },
  {
   "cell_type": "markdown",
   "id": "2b893d5a-718a-44b6-b921-7259069c4ac9",
   "metadata": {},
   "source": [
    "|Exercise 12: | Share your notebook through GitHub|\n",
    "|----|----|\n",
    "|| Share your notebook through GitHub|\n",
    "|| You will need to submit the link  as part of the assignment evaluation|"
   ]
  },
  {
   "cell_type": "markdown",
   "id": "3b029b21-4a01-4963-9427-278c877544e8",
   "metadata": {},
   "source": [
    "|Exercise 13:| Take a screenshot of the first page of the notebook|\n",
    "|---|---|\n"
   ]
  },
  {
   "cell_type": "code",
   "execution_count": null,
   "id": "b8e5f6d4-2778-4105-9548-c61b7e6087fd",
   "metadata": {},
   "outputs": [],
   "source": []
  }
 ],
 "metadata": {
  "kernelspec": {
   "display_name": "Python 3 (ipykernel)",
   "language": "python",
   "name": "python3"
  },
  "language_info": {
   "codemirror_mode": {
    "name": "ipython",
    "version": 3
   },
   "file_extension": ".py",
   "mimetype": "text/x-python",
   "name": "python",
   "nbconvert_exporter": "python",
   "pygments_lexer": "ipython3",
   "version": "3.11.3"
  }
 },
 "nbformat": 4,
 "nbformat_minor": 5
}
